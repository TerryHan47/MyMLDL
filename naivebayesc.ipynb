{
 "cells": [
  {
   "cell_type": "code",
   "execution_count": 1,
   "id": "da53c5c1",
   "metadata": {},
   "outputs": [],
   "source": [
    "import pandas as pd\n",
    "import numpy as np\n",
    "from sklearn.model_selection import train_test_split\n",
    "from sklearn.naive_bayes import MultinomialNB\n",
    "from sklearn.feature_extraction.text import CountVectorizer\n",
    "from sklearn.metrics import accuracy_score, precision_score, recall_score, f1_score"
   ]
  },
  {
   "cell_type": "markdown",
   "id": "bc76800e",
   "metadata": {},
   "source": [
    "Load and describe the datasets"
   ]
  },
  {
   "cell_type": "code",
   "execution_count": 2,
   "id": "843c4ce4",
   "metadata": {
    "scrolled": true
   },
   "outputs": [
    {
     "data": {
      "text/plain": [
       "0        ham\n",
       "1        ham\n",
       "2       spam\n",
       "3        ham\n",
       "4        ham\n",
       "        ... \n",
       "5567    spam\n",
       "5568     ham\n",
       "5569     ham\n",
       "5570     ham\n",
       "5571     ham\n",
       "Name: label, Length: 5572, dtype: object"
      ]
     },
     "execution_count": 2,
     "metadata": {},
     "output_type": "execute_result"
    }
   ],
   "source": [
    "data = pd.read_table('E:\\datasets\\SMSSpamCollection', sep = '\\t', names = ['label', 'content'])\n",
    "data.head(5)\n",
    "data.isnull().sum()\n",
    "data['label']"
   ]
  },
  {
   "cell_type": "markdown",
   "id": "9fa8ce38",
   "metadata": {},
   "source": [
    "Preprocessing"
   ]
  },
  {
   "cell_type": "code",
   "execution_count": 3,
   "id": "f7e81ed5",
   "metadata": {
    "scrolled": false
   },
   "outputs": [
    {
     "data": {
      "text/plain": [
       "0       0\n",
       "1       0\n",
       "2       1\n",
       "3       0\n",
       "4       0\n",
       "       ..\n",
       "5567    1\n",
       "5568    0\n",
       "5569    0\n",
       "5570    0\n",
       "5571    0\n",
       "Name: label, Length: 5572, dtype: int64"
      ]
     },
     "execution_count": 3,
     "metadata": {},
     "output_type": "execute_result"
    }
   ],
   "source": [
    "data['label'] = data.label.map({'ham':0, 'spam':1})\n",
    "data['content'] = data.content.map(lambda x: x.lower())\n",
    "data['label']"
   ]
  },
  {
   "cell_type": "markdown",
   "id": "7d3a95ad",
   "metadata": {},
   "source": [
    "We split the train dataset and test dataset"
   ]
  },
  {
   "cell_type": "code",
   "execution_count": 4,
   "id": "91a6ad92",
   "metadata": {
    "scrolled": false
   },
   "outputs": [
    {
     "data": {
      "text/plain": [
       "1642    0\n",
       "2899    0\n",
       "480     0\n",
       "3485    0\n",
       "157     0\n",
       "Name: label, dtype: int64"
      ]
     },
     "execution_count": 4,
     "metadata": {},
     "output_type": "execute_result"
    }
   ],
   "source": [
    "X_train, X_test, Y_train, Y_test = train_test_split(data['content'],\n",
    "                                                    data['label'],\n",
    "                                                    test_size=0.2,\n",
    "                                                    random_state=1)\n",
    "X_train.head()\n",
    "Y_train.head()"
   ]
  },
  {
   "cell_type": "markdown",
   "id": "a7785ff5",
   "metadata": {},
   "source": [
    "We turn the data into matrics"
   ]
  },
  {
   "cell_type": "code",
   "execution_count": 5,
   "id": "d855771e",
   "metadata": {},
   "outputs": [],
   "source": [
    "count_vector = CountVectorizer(stop_words='english')\n",
    "train_data = count_vector.fit_transform(X_train)\n",
    "test_data = count_vector.transform(X_test)"
   ]
  },
  {
   "cell_type": "markdown",
   "id": "0c9e396b",
   "metadata": {},
   "source": [
    "Fit the naive bayes model"
   ]
  },
  {
   "cell_type": "code",
   "execution_count": 6,
   "id": "0abdeebc",
   "metadata": {},
   "outputs": [
    {
     "data": {
      "text/plain": [
       "MultinomialNB()"
      ]
     },
     "execution_count": 6,
     "metadata": {},
     "output_type": "execute_result"
    }
   ],
   "source": [
    "naive_bayes = MultinomialNB()\n",
    "naive_bayes.fit(train_data, Y_train)"
   ]
  },
  {
   "cell_type": "markdown",
   "id": "4ace1468",
   "metadata": {},
   "source": [
    "Evaluation\n",
    "    we use accuracy, precision, recall and f1 score to measure our model performance"
   ]
  },
  {
   "cell_type": "code",
   "execution_count": 7,
   "id": "8c44c4d1",
   "metadata": {},
   "outputs": [
    {
     "name": "stdout",
     "output_type": "stream",
     "text": [
      "Accuracy score:  0.9910313901345291\n",
      "Precision score:  0.9790209790209791\n",
      "Recall score:  0.9523809523809523\n",
      "F1 score:  0.9655172413793104\n"
     ]
    }
   ],
   "source": [
    "predictions = naive_bayes.predict(test_data)\n",
    "print('Accuracy score: ', format(accuracy_score(Y_test, predictions)))\n",
    "print('Precision score: ', format(precision_score(Y_test, predictions)))\n",
    "print('Recall score: ', format(recall_score(Y_test, predictions)))\n",
    "print('F1 score: ', format(f1_score(Y_test, predictions)))"
   ]
  }
 ],
 "metadata": {
  "kernelspec": {
   "display_name": "Python 3 (ipykernel)",
   "language": "python",
   "name": "python3"
  },
  "language_info": {
   "codemirror_mode": {
    "name": "ipython",
    "version": 3
   },
   "file_extension": ".py",
   "mimetype": "text/x-python",
   "name": "python",
   "nbconvert_exporter": "python",
   "pygments_lexer": "ipython3",
   "version": "3.9.13"
  }
 },
 "nbformat": 4,
 "nbformat_minor": 5
}
